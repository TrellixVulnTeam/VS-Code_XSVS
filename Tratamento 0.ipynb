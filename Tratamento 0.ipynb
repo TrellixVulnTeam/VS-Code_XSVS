{
    "cells": [
        {
            "cell_type": "code",
            "execution_count": 2,
            "source": [
                "# (Capítulo 2) Vetor de intervalos de datas \r\n",
                "\r\n",
                "# Dias\r\n",
                "\r\n",
                "dados=[]\r\n",
                "delta2 = timedelta(days=10) # Entrada do número de dias\r\n",
                "end_date = date.today()\r\n",
                "#end_date = date.today() - timedelta(days=18)\r\n",
                "start_date = end_date - delta2\r\n",
                "delta_hora = 2 # Colocar um número divisor de 24\r\n",
                "delta3 = timedelta(days=1)\r\n",
                "contador = 24\r\n",
                "while start_date < end_date:\r\n",
                "    while contador > 0:\r\n",
                "        aux = str(start_date)\r\n",
                "        string1=\"between date('\"\r\n",
                "        string2= \"') - interval '\"\r\n",
                "        string3=\" hour' and date('\"\r\n",
                "        string4= \"') - interval '\"\r\n",
                "        string6=contador - delta_hora\r\n",
                "        string5=\" hour'\"\r\n",
                "        var=string1+aux+string2+str(contador)+string3+aux+string4+str(string6)+string5\r\n",
                "        dados.append(var)\r\n",
                "        contador -= delta_hora    \r\n",
                "    start_date += delta3\r\n",
                "    contador = 24\r\n",
                "dados"
            ],
            "outputs": [
                {
                    "output_type": "error",
                    "ename": "NameError",
                    "evalue": "name 'timedelta' is not defined",
                    "traceback": [
                        "\u001b[1;31m---------------------------------------------------------------------------\u001b[0m",
                        "\u001b[1;31mNameError\u001b[0m                                 Traceback (most recent call last)",
                        "\u001b[1;32m<ipython-input-2-704937d08c4e>\u001b[0m in \u001b[0;36m<module>\u001b[1;34m\u001b[0m\n\u001b[0;32m      4\u001b[0m \u001b[0ma\u001b[0m \u001b[1;33m=\u001b[0m \u001b[1;36m0\u001b[0m\u001b[1;33m\u001b[0m\u001b[1;33m\u001b[0m\u001b[0m\n\u001b[0;32m      5\u001b[0m \u001b[0mdados\u001b[0m\u001b[1;33m=\u001b[0m\u001b[1;33m[\u001b[0m\u001b[1;33m]\u001b[0m\u001b[1;33m\u001b[0m\u001b[1;33m\u001b[0m\u001b[0m\n\u001b[1;32m----> 6\u001b[1;33m \u001b[0mdelta2\u001b[0m \u001b[1;33m=\u001b[0m \u001b[0mtimedelta\u001b[0m\u001b[1;33m(\u001b[0m\u001b[0mdays\u001b[0m\u001b[1;33m=\u001b[0m\u001b[1;36m10\u001b[0m\u001b[1;33m)\u001b[0m \u001b[1;31m# Entrada do número de dias\u001b[0m\u001b[1;33m\u001b[0m\u001b[1;33m\u001b[0m\u001b[0m\n\u001b[0m\u001b[0;32m      7\u001b[0m \u001b[0mend_date\u001b[0m \u001b[1;33m=\u001b[0m \u001b[0mdate\u001b[0m\u001b[1;33m.\u001b[0m\u001b[0mtoday\u001b[0m\u001b[1;33m(\u001b[0m\u001b[1;33m)\u001b[0m\u001b[1;33m\u001b[0m\u001b[1;33m\u001b[0m\u001b[0m\n\u001b[0;32m      8\u001b[0m \u001b[1;31m#end_date = date.today() - timedelta(days=18)\u001b[0m\u001b[1;33m\u001b[0m\u001b[1;33m\u001b[0m\u001b[1;33m\u001b[0m\u001b[0m\n",
                        "\u001b[1;31mNameError\u001b[0m: name 'timedelta' is not defined"
                    ]
                }
            ],
            "metadata": {}
        }
    ],
    "metadata": {
        "orig_nbformat": 4,
        "language_info": {
            "name": "python",
            "version": "3.8.8",
            "mimetype": "text/x-python",
            "codemirror_mode": {
                "name": "ipython",
                "version": 3
            },
            "pygments_lexer": "ipython3",
            "nbconvert_exporter": "python",
            "file_extension": ".py"
        },
        "kernelspec": {
            "name": "python3",
            "display_name": "Python 3.8.8 64-bit ('base': conda)"
        },
        "interpreter": {
            "hash": "006b2a4c59105e151f59d7a783e9669671dc3b315a85df72952575de8c58cde6"
        }
    },
    "nbformat": 4,
    "nbformat_minor": 2
}